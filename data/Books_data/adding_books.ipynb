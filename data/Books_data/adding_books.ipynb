{
 "cells": [
  {
   "cell_type": "code",
   "execution_count": 2,
   "id": "initial_id",
   "metadata": {
    "collapsed": true,
    "ExecuteTime": {
     "end_time": "2023-11-17T06:35:42.806091Z",
     "start_time": "2023-11-17T06:35:42.332889Z"
    }
   },
   "outputs": [],
   "source": [
    "import pymysql as sql\n",
    "import pandas as pd\n"
   ]
  },
  {
   "cell_type": "code",
   "execution_count": 3,
   "outputs": [
    {
     "data": {
      "text/plain": "       Unnamed: 0  bookId                                      title  \\\n0               0       1     Harry Potter and the Half-Blood Prince   \n1               1       2  Harry Potter and the Order of the Phoenix   \n2               2       3      Harry Potter and the Sorcerer's Stone   \n3               3       4    Harry Potter and the Chamber of Secrets   \n4               4       5   Harry Potter and the Prisoner of Azkaban   \n...           ...     ...                                        ...   \n20063       20063   19996         Connecticut: In Words and Pictures   \n20064       20064   19997                    Through a Brazen Mirror   \n20065       20065   19998                         The Porcelain Dove   \n20066       20066   19999                      The Fall Of The Kings   \n20067       20067   20000                       Die Blume der Diener   \n\n                                                  author  \\\n0                                           J.K. Rowling   \n1                             J.K. Rowling,Mary GrandPré   \n2                             J.K. Rowling,Mary GrandPré   \n3                                           J.K. Rowling   \n4                             J.K. Rowling,Mary GrandPré   \n...                                                  ...   \n20063  Dennis Brindell Fradin,Richard Wahl,Len W. Meents   \n20064        Delia Sherman,Cortney Skinner,Ellen Kushner   \n20065                                      Delia Sherman   \n20066                        Ellen Kushner,Delia Sherman   \n20067                     Delia Sherman,Michael Siefener   \n\n                          series  \\\n0                Harry Potter #6   \n1                Harry Potter #5   \n2                Harry Potter #1   \n3                Harry Potter #2   \n4                Harry Potter #3   \n...                          ...   \n20063                        NaN   \n20064                        NaN   \n20065                        NaN   \n20066  The World of Riverside #3   \n20067                        NaN   \n\n                                             description  \\\n0      The war against Voldemort is not going well; e...   \n1      There is a door at the end of a silent corrido...   \n2      Harry Potter's life is miserable. His parents ...   \n3      The Dursleys were so mean and hideous that sum...   \n4      For twelve long years, the dread fortress of A...   \n...                                                  ...   \n20063  A brief introduction to the history, geography...   \n20064  In a medieval kingdom both like and unlike 13t...   \n20065  Narrated by the irrepressible chambermaid to a...   \n20066  From School Library Journal,Adult/High School-...   \n20067  Der junge William Flower kommt als Unbekannter...   \n\n                                                  genres  \\\n0      Art,Biography,Business,Children's,Christian,Cl...   \n1      Art,Biography,Business,Children's,Christian,Cl...   \n2      Art,Biography,Business,Children's,Christian,Cl...   \n3      Art,Biography,Business,Children's,Christian,Cl...   \n4      Art,Biography,Business,Children's,Christian,Cl...   \n...                                                  ...   \n20063  Art,Biography,Business,Children's,Christian,Cl...   \n20064  Art,Biography,Business,Children's,Christian,Cl...   \n20065  Art,Biography,Business,Children's,Christian,Cl...   \n20066  Art,Biography,Business,Children's,Christian,Cl...   \n20067  Art,Biography,Business,Children's,Christian,Cl...   \n\n                                                  awards  \\\n0      Locus Award Nominee for Best Young Adult Novel...   \n1      Bram Stoker Award for Works for Young Readers ...   \n2      Mythopoeic Fantasy Award for Children's Litera...   \n3      Mythopoeic Fantasy Award for Children's Litera...   \n4      Bram Stoker Award for Best Work for Young Read...   \n...                                                  ...   \n20063                                                NaN   \n20064                                                NaN   \n20065  Mythopoeic Fantasy Award for Adult Literature ...   \n20066  World Fantasy Award Nominee for Best Novella 1...   \n20067                                                NaN   \n\n                                              characters  \\\n0      Draco Malfoy,Ron Weasley,Petunia Dursley,Verno...   \n1      Sirius Black,Draco Malfoy,Ron Weasley,Petunia ...   \n2      Draco Malfoy,Ron Weasley,Petunia Dursley,Verno...   \n3      Draco Malfoy,Ron Weasley,Petunia Dursley,Verno...   \n4      Sirius Black,Draco Malfoy,Ron Weasley,Petunia ...   \n...                                                  ...   \n20063                                                NaN   \n20064                                                NaN   \n20065                                                NaN   \n20066                                                NaN   \n20067                                                NaN   \n\n                                                  places  ...  \\\n0      Hogwarts School of Witchcraft and Wizardry,Eng...  ...   \n1      Hogwarts School of Witchcraft and Wizardry,Lon...  ...   \n2      London, England,Hogwarts School of Witchcraft ...  ...   \n3      Hogwarts School of Witchcraft and Wizardry,Hog...  ...   \n4      Hogwarts School of Witchcraft and Wizardry,Lon...  ...   \n...                                                  ...  ...   \n20063                                                NaN  ...   \n20064                                                NaN  ...   \n20065                                                NaN  ...   \n20066                                                NaN  ...   \n20067                                                NaN  ...   \n\n              publish_date num_pages num_ratings num_reviews avg_rating  \\\n0      September 16th 2006     652.0   2553909.0     41470.0       4.57   \n1           September 2004     870.0   2631427.0     44793.0       4.50   \n2        November 1st 2003     309.0   7434783.0    117823.0       4.48   \n3        November 1st 2003     352.0   2878196.0     55839.0       4.43   \n4             May 1st 2004     435.0   2972519.0     58483.0       4.57   \n...                    ...       ...         ...         ...        ...   \n20063       March 1st 1980      48.0         0.0         0.0       0.00   \n20064   February 25th 2015     100.0       141.0        16.0       3.38   \n20065        July 1st 1994     416.0       242.0        36.0       3.41   \n20066                 2002       NaN      2153.0       167.0       3.65   \n20067                 2001     318.0       141.0        16.0       3.38   \n\n        rated_1   rated_2   rated_3    rated_4    rated_5  \n0       13147.0   29020.0  174312.0   608825.0  1728605.0  \n1       16236.0   41738.0  231438.0   665628.0  1676387.0  \n2      126344.0  147184.0  627803.0  1694206.0  4839246.0  \n3       15623.0   55060.0  315917.0   787181.0  1704415.0  \n4       14124.0   29105.0  214151.0   701765.0  2013374.0  \n...         ...       ...       ...        ...        ...  \n20063       NaN       NaN       NaN        NaN        NaN  \n20064       8.0      15.0      52.0       47.0       19.0  \n20065      18.0      35.0      72.0       63.0       54.0  \n20066      61.0     214.0     640.0      734.0      504.0  \n20067       8.0      15.0      52.0       47.0       19.0  \n\n[20068 rows x 24 columns]",
      "text/html": "<div>\n<style scoped>\n    .dataframe tbody tr th:only-of-type {\n        vertical-align: middle;\n    }\n\n    .dataframe tbody tr th {\n        vertical-align: top;\n    }\n\n    .dataframe thead th {\n        text-align: right;\n    }\n</style>\n<table border=\"1\" class=\"dataframe\">\n  <thead>\n    <tr style=\"text-align: right;\">\n      <th></th>\n      <th>Unnamed: 0</th>\n      <th>bookId</th>\n      <th>title</th>\n      <th>author</th>\n      <th>series</th>\n      <th>description</th>\n      <th>genres</th>\n      <th>awards</th>\n      <th>characters</th>\n      <th>places</th>\n      <th>...</th>\n      <th>publish_date</th>\n      <th>num_pages</th>\n      <th>num_ratings</th>\n      <th>num_reviews</th>\n      <th>avg_rating</th>\n      <th>rated_1</th>\n      <th>rated_2</th>\n      <th>rated_3</th>\n      <th>rated_4</th>\n      <th>rated_5</th>\n    </tr>\n  </thead>\n  <tbody>\n    <tr>\n      <th>0</th>\n      <td>0</td>\n      <td>1</td>\n      <td>Harry Potter and the Half-Blood Prince</td>\n      <td>J.K. Rowling</td>\n      <td>Harry Potter #6</td>\n      <td>The war against Voldemort is not going well; e...</td>\n      <td>Art,Biography,Business,Children's,Christian,Cl...</td>\n      <td>Locus Award Nominee for Best Young Adult Novel...</td>\n      <td>Draco Malfoy,Ron Weasley,Petunia Dursley,Verno...</td>\n      <td>Hogwarts School of Witchcraft and Wizardry,Eng...</td>\n      <td>...</td>\n      <td>September 16th 2006</td>\n      <td>652.0</td>\n      <td>2553909.0</td>\n      <td>41470.0</td>\n      <td>4.57</td>\n      <td>13147.0</td>\n      <td>29020.0</td>\n      <td>174312.0</td>\n      <td>608825.0</td>\n      <td>1728605.0</td>\n    </tr>\n    <tr>\n      <th>1</th>\n      <td>1</td>\n      <td>2</td>\n      <td>Harry Potter and the Order of the Phoenix</td>\n      <td>J.K. Rowling,Mary GrandPré</td>\n      <td>Harry Potter #5</td>\n      <td>There is a door at the end of a silent corrido...</td>\n      <td>Art,Biography,Business,Children's,Christian,Cl...</td>\n      <td>Bram Stoker Award for Works for Young Readers ...</td>\n      <td>Sirius Black,Draco Malfoy,Ron Weasley,Petunia ...</td>\n      <td>Hogwarts School of Witchcraft and Wizardry,Lon...</td>\n      <td>...</td>\n      <td>September 2004</td>\n      <td>870.0</td>\n      <td>2631427.0</td>\n      <td>44793.0</td>\n      <td>4.50</td>\n      <td>16236.0</td>\n      <td>41738.0</td>\n      <td>231438.0</td>\n      <td>665628.0</td>\n      <td>1676387.0</td>\n    </tr>\n    <tr>\n      <th>2</th>\n      <td>2</td>\n      <td>3</td>\n      <td>Harry Potter and the Sorcerer's Stone</td>\n      <td>J.K. Rowling,Mary GrandPré</td>\n      <td>Harry Potter #1</td>\n      <td>Harry Potter's life is miserable. His parents ...</td>\n      <td>Art,Biography,Business,Children's,Christian,Cl...</td>\n      <td>Mythopoeic Fantasy Award for Children's Litera...</td>\n      <td>Draco Malfoy,Ron Weasley,Petunia Dursley,Verno...</td>\n      <td>London, England,Hogwarts School of Witchcraft ...</td>\n      <td>...</td>\n      <td>November 1st 2003</td>\n      <td>309.0</td>\n      <td>7434783.0</td>\n      <td>117823.0</td>\n      <td>4.48</td>\n      <td>126344.0</td>\n      <td>147184.0</td>\n      <td>627803.0</td>\n      <td>1694206.0</td>\n      <td>4839246.0</td>\n    </tr>\n    <tr>\n      <th>3</th>\n      <td>3</td>\n      <td>4</td>\n      <td>Harry Potter and the Chamber of Secrets</td>\n      <td>J.K. Rowling</td>\n      <td>Harry Potter #2</td>\n      <td>The Dursleys were so mean and hideous that sum...</td>\n      <td>Art,Biography,Business,Children's,Christian,Cl...</td>\n      <td>Mythopoeic Fantasy Award for Children's Litera...</td>\n      <td>Draco Malfoy,Ron Weasley,Petunia Dursley,Verno...</td>\n      <td>Hogwarts School of Witchcraft and Wizardry,Hog...</td>\n      <td>...</td>\n      <td>November 1st 2003</td>\n      <td>352.0</td>\n      <td>2878196.0</td>\n      <td>55839.0</td>\n      <td>4.43</td>\n      <td>15623.0</td>\n      <td>55060.0</td>\n      <td>315917.0</td>\n      <td>787181.0</td>\n      <td>1704415.0</td>\n    </tr>\n    <tr>\n      <th>4</th>\n      <td>4</td>\n      <td>5</td>\n      <td>Harry Potter and the Prisoner of Azkaban</td>\n      <td>J.K. Rowling,Mary GrandPré</td>\n      <td>Harry Potter #3</td>\n      <td>For twelve long years, the dread fortress of A...</td>\n      <td>Art,Biography,Business,Children's,Christian,Cl...</td>\n      <td>Bram Stoker Award for Best Work for Young Read...</td>\n      <td>Sirius Black,Draco Malfoy,Ron Weasley,Petunia ...</td>\n      <td>Hogwarts School of Witchcraft and Wizardry,Lon...</td>\n      <td>...</td>\n      <td>May 1st 2004</td>\n      <td>435.0</td>\n      <td>2972519.0</td>\n      <td>58483.0</td>\n      <td>4.57</td>\n      <td>14124.0</td>\n      <td>29105.0</td>\n      <td>214151.0</td>\n      <td>701765.0</td>\n      <td>2013374.0</td>\n    </tr>\n    <tr>\n      <th>...</th>\n      <td>...</td>\n      <td>...</td>\n      <td>...</td>\n      <td>...</td>\n      <td>...</td>\n      <td>...</td>\n      <td>...</td>\n      <td>...</td>\n      <td>...</td>\n      <td>...</td>\n      <td>...</td>\n      <td>...</td>\n      <td>...</td>\n      <td>...</td>\n      <td>...</td>\n      <td>...</td>\n      <td>...</td>\n      <td>...</td>\n      <td>...</td>\n      <td>...</td>\n      <td>...</td>\n    </tr>\n    <tr>\n      <th>20063</th>\n      <td>20063</td>\n      <td>19996</td>\n      <td>Connecticut: In Words and Pictures</td>\n      <td>Dennis Brindell Fradin,Richard Wahl,Len W. Meents</td>\n      <td>NaN</td>\n      <td>A brief introduction to the history, geography...</td>\n      <td>Art,Biography,Business,Children's,Christian,Cl...</td>\n      <td>NaN</td>\n      <td>NaN</td>\n      <td>NaN</td>\n      <td>...</td>\n      <td>March 1st 1980</td>\n      <td>48.0</td>\n      <td>0.0</td>\n      <td>0.0</td>\n      <td>0.00</td>\n      <td>NaN</td>\n      <td>NaN</td>\n      <td>NaN</td>\n      <td>NaN</td>\n      <td>NaN</td>\n    </tr>\n    <tr>\n      <th>20064</th>\n      <td>20064</td>\n      <td>19997</td>\n      <td>Through a Brazen Mirror</td>\n      <td>Delia Sherman,Cortney Skinner,Ellen Kushner</td>\n      <td>NaN</td>\n      <td>In a medieval kingdom both like and unlike 13t...</td>\n      <td>Art,Biography,Business,Children's,Christian,Cl...</td>\n      <td>NaN</td>\n      <td>NaN</td>\n      <td>NaN</td>\n      <td>...</td>\n      <td>February 25th 2015</td>\n      <td>100.0</td>\n      <td>141.0</td>\n      <td>16.0</td>\n      <td>3.38</td>\n      <td>8.0</td>\n      <td>15.0</td>\n      <td>52.0</td>\n      <td>47.0</td>\n      <td>19.0</td>\n    </tr>\n    <tr>\n      <th>20065</th>\n      <td>20065</td>\n      <td>19998</td>\n      <td>The Porcelain Dove</td>\n      <td>Delia Sherman</td>\n      <td>NaN</td>\n      <td>Narrated by the irrepressible chambermaid to a...</td>\n      <td>Art,Biography,Business,Children's,Christian,Cl...</td>\n      <td>Mythopoeic Fantasy Award for Adult Literature ...</td>\n      <td>NaN</td>\n      <td>NaN</td>\n      <td>...</td>\n      <td>July 1st 1994</td>\n      <td>416.0</td>\n      <td>242.0</td>\n      <td>36.0</td>\n      <td>3.41</td>\n      <td>18.0</td>\n      <td>35.0</td>\n      <td>72.0</td>\n      <td>63.0</td>\n      <td>54.0</td>\n    </tr>\n    <tr>\n      <th>20066</th>\n      <td>20066</td>\n      <td>19999</td>\n      <td>The Fall Of The Kings</td>\n      <td>Ellen Kushner,Delia Sherman</td>\n      <td>The World of Riverside #3</td>\n      <td>From School Library Journal,Adult/High School-...</td>\n      <td>Art,Biography,Business,Children's,Christian,Cl...</td>\n      <td>World Fantasy Award Nominee for Best Novella 1...</td>\n      <td>NaN</td>\n      <td>NaN</td>\n      <td>...</td>\n      <td>2002</td>\n      <td>NaN</td>\n      <td>2153.0</td>\n      <td>167.0</td>\n      <td>3.65</td>\n      <td>61.0</td>\n      <td>214.0</td>\n      <td>640.0</td>\n      <td>734.0</td>\n      <td>504.0</td>\n    </tr>\n    <tr>\n      <th>20067</th>\n      <td>20067</td>\n      <td>20000</td>\n      <td>Die Blume der Diener</td>\n      <td>Delia Sherman,Michael Siefener</td>\n      <td>NaN</td>\n      <td>Der junge William Flower kommt als Unbekannter...</td>\n      <td>Art,Biography,Business,Children's,Christian,Cl...</td>\n      <td>NaN</td>\n      <td>NaN</td>\n      <td>NaN</td>\n      <td>...</td>\n      <td>2001</td>\n      <td>318.0</td>\n      <td>141.0</td>\n      <td>16.0</td>\n      <td>3.38</td>\n      <td>8.0</td>\n      <td>15.0</td>\n      <td>52.0</td>\n      <td>47.0</td>\n      <td>19.0</td>\n    </tr>\n  </tbody>\n</table>\n<p>20068 rows × 24 columns</p>\n</div>"
     },
     "execution_count": 3,
     "metadata": {},
     "output_type": "execute_result"
    }
   ],
   "source": [
    "df = pd.read_csv(\"Goodreads.csv\")\n",
    "df"
   ],
   "metadata": {
    "collapsed": false,
    "ExecuteTime": {
     "end_time": "2023-11-17T06:35:43.408938Z",
     "start_time": "2023-11-17T06:35:42.809811Z"
    }
   },
   "id": "e789607bd66e4068"
  },
  {
   "cell_type": "code",
   "execution_count": 4,
   "outputs": [
    {
     "data": {
      "text/plain": "Unnamed: 0             0.000000\nbookId                 0.000000\ntitle                  2.785529\nauthor                 2.795495\nseries                78.677497\ndescription           13.389476\ngenres                 1.275663\nawards                84.408013\ncharacters            76.185968\nplaces                79.868447\nisbn                  12.642017\nisbn13                 4.275463\nlanguage              13.847917\nfirst_publish_date    27.292206\npublish_date           5.212278\nnum_pages              8.172214\nnum_ratings            2.785529\nnum_reviews            2.785529\navg_rating             2.785529\nrated_1               17.091888\nrated_2               17.091888\nrated_3               17.091888\nrated_4               17.091888\nrated_5               17.091888\ndtype: float64"
     },
     "execution_count": 4,
     "metadata": {},
     "output_type": "execute_result"
    }
   ],
   "source": [
    "df.isnull().sum()/len(df.index) * 100"
   ],
   "metadata": {
    "collapsed": false,
    "ExecuteTime": {
     "end_time": "2023-11-17T06:35:43.457270Z",
     "start_time": "2023-11-17T06:35:43.416982Z"
    }
   },
   "id": "ae8bdf4f9011442d"
  },
  {
   "cell_type": "code",
   "execution_count": 5,
   "outputs": [
    {
     "data": {
      "text/plain": "Unnamed: 0            False\nbookId                False\ntitle                 False\nauthor                False\nseries                 True\ndescription            True\ngenres                False\nawards                 True\ncharacters             True\nplaces                 True\nisbn                   True\nisbn13                False\nlanguage               True\nfirst_publish_date     True\npublish_date          False\nnum_pages             False\nnum_ratings           False\nnum_reviews           False\navg_rating            False\nrated_1                True\nrated_2                True\nrated_3                True\nrated_4                True\nrated_5                True\ndtype: bool"
     },
     "execution_count": 5,
     "metadata": {},
     "output_type": "execute_result"
    }
   ],
   "source": [
    "df.isnull().sum()/len(df.index) * 100 > 10"
   ],
   "metadata": {
    "collapsed": false,
    "ExecuteTime": {
     "end_time": "2023-11-17T06:35:43.556337Z",
     "start_time": "2023-11-17T06:35:43.445840Z"
    }
   },
   "id": "f6347228f3bd0fdb"
  },
  {
   "cell_type": "code",
   "execution_count": 6,
   "outputs": [
    {
     "data": {
      "text/plain": "Unnamed: 0             0.000000\nbookId                 0.000000\ntitle                  2.785529\nauthor                 2.795495\ngenres                 1.275663\nisbn                  12.642017\nisbn13                 4.275463\nlanguage              13.847917\nfirst_publish_date    27.292206\npublish_date           5.212278\nnum_pages              8.172214\nnum_ratings            2.785529\nnum_reviews            2.785529\navg_rating             2.785529\nrated_1               17.091888\nrated_2               17.091888\nrated_3               17.091888\nrated_4               17.091888\nrated_5               17.091888\ndtype: float64"
     },
     "execution_count": 6,
     "metadata": {},
     "output_type": "execute_result"
    }
   ],
   "source": [
    "df.drop(['places','characters','awards','description','series'],axis=1,inplace=True)\n",
    "df.isnull().sum()/len(df.index) * 100"
   ],
   "metadata": {
    "collapsed": false,
    "ExecuteTime": {
     "end_time": "2023-11-17T06:35:43.656435Z",
     "start_time": "2023-11-17T06:35:43.458851Z"
    }
   },
   "id": "c06adc9bdfc58859"
  },
  {
   "cell_type": "code",
   "execution_count": 7,
   "outputs": [
    {
     "data": {
      "text/plain": "Unnamed: 0      0.000000\nbookId          0.000000\ntitle           2.785529\nauthor          2.795495\ngenres          1.275663\nisbn           12.642017\nisbn13          4.275463\nnum_pages       8.172214\nnum_ratings     2.785529\nnum_reviews     2.785529\navg_rating      2.785529\nrated_1        17.091888\nrated_2        17.091888\nrated_3        17.091888\nrated_4        17.091888\nrated_5        17.091888\ndtype: float64"
     },
     "execution_count": 7,
     "metadata": {},
     "output_type": "execute_result"
    }
   ],
   "source": [
    "df.drop(['first_publish_date','publish_date','language'],axis=1,inplace=True)\n",
    "df.isnull().sum()/len(df.index) * 100"
   ],
   "metadata": {
    "collapsed": false,
    "ExecuteTime": {
     "end_time": "2023-11-17T06:35:43.658379Z",
     "start_time": "2023-11-17T06:35:43.498204Z"
    }
   },
   "id": "739b4faf4b855c4a"
  },
  {
   "cell_type": "code",
   "execution_count": 8,
   "outputs": [
    {
     "data": {
      "text/plain": "14140"
     },
     "execution_count": 8,
     "metadata": {},
     "output_type": "execute_result"
    }
   ],
   "source": [
    "df.dropna(inplace=True)\n",
    "len(df.index)"
   ],
   "metadata": {
    "collapsed": false,
    "ExecuteTime": {
     "end_time": "2023-11-17T06:35:43.659063Z",
     "start_time": "2023-11-17T06:35:43.514466Z"
    }
   },
   "id": "76ff02ed02bc90c4"
  },
  {
   "cell_type": "code",
   "execution_count": 9,
   "outputs": [],
   "source": [
    "# df.to_csv(\"Cleaned_data.csv\")"
   ],
   "metadata": {
    "collapsed": false,
    "ExecuteTime": {
     "end_time": "2023-11-17T06:35:43.659319Z",
     "start_time": "2023-11-17T06:35:43.531271Z"
    }
   },
   "id": "6127e9d4711baf5f"
  },
  {
   "cell_type": "code",
   "execution_count": 10,
   "outputs": [
    {
     "data": {
      "text/plain": "1        9780439358071\n3        9780439554893\n7        9780439682589\n8        9780976540601\n9        9780439827607\n             ...      \n20055    9780573625831\n20056    9780689505195\n20064    9781885865243\n20065    9780452272262\n20067    9783453188211\nName: isbn13, Length: 14140, dtype: object"
     },
     "execution_count": 10,
     "metadata": {},
     "output_type": "execute_result"
    }
   ],
   "source": [
    "df['isbn13']"
   ],
   "metadata": {
    "collapsed": false,
    "ExecuteTime": {
     "end_time": "2023-11-17T06:35:43.660045Z",
     "start_time": "2023-11-17T06:35:43.539217Z"
    }
   },
   "id": "4023b254dc63635d"
  },
  {
   "cell_type": "code",
   "execution_count": 11,
   "outputs": [
    {
     "data": {
      "text/plain": "       Unnamed: 0  bookId                                              title  \\\n1               1       2          Harry Potter and the Order of the Phoenix   \n3               3       4            Harry Potter and the Chamber of Secrets   \n7               7       8  Harry Potter Boxed Set, Books 1-5 (Harry Potte...   \n8               8       9  Unauthorized Harry Potter Book Seven News: \\\"H...   \n9               9      10                            Harry Potter Collection   \n...           ...     ...                                                ...   \n20055       20055   19988  Where Have All The Lightning Bugs Gone?: A Pla...   \n20056       20056   19989                       Hiawatha: Messenger of Peace   \n20064       20064   19997                            Through a Brazen Mirror   \n20065       20065   19998                                 The Porcelain Dove   \n20067       20067   20000                               Die Blume der Diener   \n\n                                            author  \\\n1                       J.K. Rowling,Mary GrandPré   \n3                                     J.K. Rowling   \n7                       J.K. Rowling,Mary GrandPré   \n8                           W. Frederick Zimmerman   \n9                                     J.K. Rowling   \n...                                            ...   \n20055                              Louis E. Catron   \n20056         Dennis Brindell Fradin,Arnold Jacobs   \n20064  Delia Sherman,Cortney Skinner,Ellen Kushner   \n20065                                Delia Sherman   \n20067               Delia Sherman,Michael Siefener   \n\n                                                  genres        isbn  \\\n1      Art,Biography,Business,Children's,Christian,Cl...  0439358078   \n3      Art,Biography,Business,Children's,Christian,Cl...  0439554896   \n7      Art,Biography,Business,Children's,Christian,Cl...  0439682584   \n8      Art,Biography,Business,Children's,Christian,Cl...  0976540606   \n9      Art,Biography,Business,Children's,Christian,Cl...  0439827604   \n...                                                  ...         ...   \n20055  Art,Biography,Business,Children's,Christian,Cl...  0573625832   \n20056  Art,Biography,Business,Children's,Christian,Cl...  0689505191   \n20064  Art,Biography,Business,Children's,Christian,Cl...  1885865244   \n20065  Art,Biography,Business,Children's,Christian,Cl...  0452272262   \n20067  Art,Biography,Business,Children's,Christian,Cl...  3453188217   \n\n              isbn13  num_pages  num_ratings  num_reviews  avg_rating  \\\n1      9780439358071      870.0    2631427.0      44793.0        4.50   \n3      9780439554893      352.0    2878196.0      55839.0        4.43   \n7      9780439682589     2690.0      58833.0        184.0        4.79   \n8      9780976540601      152.0         30.0          1.0        3.80   \n9      9780439827607     3342.0      31200.0        921.0        4.73   \n...              ...        ...          ...          ...         ...   \n20055  9780573625831       26.0          7.0          3.0        4.14   \n20056  9780689505195       40.0          8.0          0.0        3.13   \n20064  9781885865243      100.0        141.0         16.0        3.38   \n20065  9780452272262      416.0        242.0         36.0        3.41   \n20067  9783453188211      318.0        141.0         16.0        3.38   \n\n       rated_1  rated_2   rated_3   rated_4    rated_5  \n1      16236.0  41738.0  231438.0  665628.0  1676387.0  \n3      15623.0  55060.0  315917.0  787181.0  1704415.0  \n7        539.0    354.0    1543.0    6204.0    50193.0  \n8          0.0      5.0       7.0       7.0       11.0  \n9        282.0    231.0    1108.0    4471.0    25108.0  \n...        ...      ...       ...       ...        ...  \n20055      0.0      1.0       1.0       1.0        4.0  \n20056      1.0      1.0       3.0       2.0        1.0  \n20064      8.0     15.0      52.0      47.0       19.0  \n20065     18.0     35.0      72.0      63.0       54.0  \n20067      8.0     15.0      52.0      47.0       19.0  \n\n[14140 rows x 16 columns]",
      "text/html": "<div>\n<style scoped>\n    .dataframe tbody tr th:only-of-type {\n        vertical-align: middle;\n    }\n\n    .dataframe tbody tr th {\n        vertical-align: top;\n    }\n\n    .dataframe thead th {\n        text-align: right;\n    }\n</style>\n<table border=\"1\" class=\"dataframe\">\n  <thead>\n    <tr style=\"text-align: right;\">\n      <th></th>\n      <th>Unnamed: 0</th>\n      <th>bookId</th>\n      <th>title</th>\n      <th>author</th>\n      <th>genres</th>\n      <th>isbn</th>\n      <th>isbn13</th>\n      <th>num_pages</th>\n      <th>num_ratings</th>\n      <th>num_reviews</th>\n      <th>avg_rating</th>\n      <th>rated_1</th>\n      <th>rated_2</th>\n      <th>rated_3</th>\n      <th>rated_4</th>\n      <th>rated_5</th>\n    </tr>\n  </thead>\n  <tbody>\n    <tr>\n      <th>1</th>\n      <td>1</td>\n      <td>2</td>\n      <td>Harry Potter and the Order of the Phoenix</td>\n      <td>J.K. Rowling,Mary GrandPré</td>\n      <td>Art,Biography,Business,Children's,Christian,Cl...</td>\n      <td>0439358078</td>\n      <td>9780439358071</td>\n      <td>870.0</td>\n      <td>2631427.0</td>\n      <td>44793.0</td>\n      <td>4.50</td>\n      <td>16236.0</td>\n      <td>41738.0</td>\n      <td>231438.0</td>\n      <td>665628.0</td>\n      <td>1676387.0</td>\n    </tr>\n    <tr>\n      <th>3</th>\n      <td>3</td>\n      <td>4</td>\n      <td>Harry Potter and the Chamber of Secrets</td>\n      <td>J.K. Rowling</td>\n      <td>Art,Biography,Business,Children's,Christian,Cl...</td>\n      <td>0439554896</td>\n      <td>9780439554893</td>\n      <td>352.0</td>\n      <td>2878196.0</td>\n      <td>55839.0</td>\n      <td>4.43</td>\n      <td>15623.0</td>\n      <td>55060.0</td>\n      <td>315917.0</td>\n      <td>787181.0</td>\n      <td>1704415.0</td>\n    </tr>\n    <tr>\n      <th>7</th>\n      <td>7</td>\n      <td>8</td>\n      <td>Harry Potter Boxed Set, Books 1-5 (Harry Potte...</td>\n      <td>J.K. Rowling,Mary GrandPré</td>\n      <td>Art,Biography,Business,Children's,Christian,Cl...</td>\n      <td>0439682584</td>\n      <td>9780439682589</td>\n      <td>2690.0</td>\n      <td>58833.0</td>\n      <td>184.0</td>\n      <td>4.79</td>\n      <td>539.0</td>\n      <td>354.0</td>\n      <td>1543.0</td>\n      <td>6204.0</td>\n      <td>50193.0</td>\n    </tr>\n    <tr>\n      <th>8</th>\n      <td>8</td>\n      <td>9</td>\n      <td>Unauthorized Harry Potter Book Seven News: \\\"H...</td>\n      <td>W. Frederick Zimmerman</td>\n      <td>Art,Biography,Business,Children's,Christian,Cl...</td>\n      <td>0976540606</td>\n      <td>9780976540601</td>\n      <td>152.0</td>\n      <td>30.0</td>\n      <td>1.0</td>\n      <td>3.80</td>\n      <td>0.0</td>\n      <td>5.0</td>\n      <td>7.0</td>\n      <td>7.0</td>\n      <td>11.0</td>\n    </tr>\n    <tr>\n      <th>9</th>\n      <td>9</td>\n      <td>10</td>\n      <td>Harry Potter Collection</td>\n      <td>J.K. Rowling</td>\n      <td>Art,Biography,Business,Children's,Christian,Cl...</td>\n      <td>0439827604</td>\n      <td>9780439827607</td>\n      <td>3342.0</td>\n      <td>31200.0</td>\n      <td>921.0</td>\n      <td>4.73</td>\n      <td>282.0</td>\n      <td>231.0</td>\n      <td>1108.0</td>\n      <td>4471.0</td>\n      <td>25108.0</td>\n    </tr>\n    <tr>\n      <th>...</th>\n      <td>...</td>\n      <td>...</td>\n      <td>...</td>\n      <td>...</td>\n      <td>...</td>\n      <td>...</td>\n      <td>...</td>\n      <td>...</td>\n      <td>...</td>\n      <td>...</td>\n      <td>...</td>\n      <td>...</td>\n      <td>...</td>\n      <td>...</td>\n      <td>...</td>\n      <td>...</td>\n    </tr>\n    <tr>\n      <th>20055</th>\n      <td>20055</td>\n      <td>19988</td>\n      <td>Where Have All The Lightning Bugs Gone?: A Pla...</td>\n      <td>Louis E. Catron</td>\n      <td>Art,Biography,Business,Children's,Christian,Cl...</td>\n      <td>0573625832</td>\n      <td>9780573625831</td>\n      <td>26.0</td>\n      <td>7.0</td>\n      <td>3.0</td>\n      <td>4.14</td>\n      <td>0.0</td>\n      <td>1.0</td>\n      <td>1.0</td>\n      <td>1.0</td>\n      <td>4.0</td>\n    </tr>\n    <tr>\n      <th>20056</th>\n      <td>20056</td>\n      <td>19989</td>\n      <td>Hiawatha: Messenger of Peace</td>\n      <td>Dennis Brindell Fradin,Arnold Jacobs</td>\n      <td>Art,Biography,Business,Children's,Christian,Cl...</td>\n      <td>0689505191</td>\n      <td>9780689505195</td>\n      <td>40.0</td>\n      <td>8.0</td>\n      <td>0.0</td>\n      <td>3.13</td>\n      <td>1.0</td>\n      <td>1.0</td>\n      <td>3.0</td>\n      <td>2.0</td>\n      <td>1.0</td>\n    </tr>\n    <tr>\n      <th>20064</th>\n      <td>20064</td>\n      <td>19997</td>\n      <td>Through a Brazen Mirror</td>\n      <td>Delia Sherman,Cortney Skinner,Ellen Kushner</td>\n      <td>Art,Biography,Business,Children's,Christian,Cl...</td>\n      <td>1885865244</td>\n      <td>9781885865243</td>\n      <td>100.0</td>\n      <td>141.0</td>\n      <td>16.0</td>\n      <td>3.38</td>\n      <td>8.0</td>\n      <td>15.0</td>\n      <td>52.0</td>\n      <td>47.0</td>\n      <td>19.0</td>\n    </tr>\n    <tr>\n      <th>20065</th>\n      <td>20065</td>\n      <td>19998</td>\n      <td>The Porcelain Dove</td>\n      <td>Delia Sherman</td>\n      <td>Art,Biography,Business,Children's,Christian,Cl...</td>\n      <td>0452272262</td>\n      <td>9780452272262</td>\n      <td>416.0</td>\n      <td>242.0</td>\n      <td>36.0</td>\n      <td>3.41</td>\n      <td>18.0</td>\n      <td>35.0</td>\n      <td>72.0</td>\n      <td>63.0</td>\n      <td>54.0</td>\n    </tr>\n    <tr>\n      <th>20067</th>\n      <td>20067</td>\n      <td>20000</td>\n      <td>Die Blume der Diener</td>\n      <td>Delia Sherman,Michael Siefener</td>\n      <td>Art,Biography,Business,Children's,Christian,Cl...</td>\n      <td>3453188217</td>\n      <td>9783453188211</td>\n      <td>318.0</td>\n      <td>141.0</td>\n      <td>16.0</td>\n      <td>3.38</td>\n      <td>8.0</td>\n      <td>15.0</td>\n      <td>52.0</td>\n      <td>47.0</td>\n      <td>19.0</td>\n    </tr>\n  </tbody>\n</table>\n<p>14140 rows × 16 columns</p>\n</div>"
     },
     "execution_count": 11,
     "metadata": {},
     "output_type": "execute_result"
    }
   ],
   "source": [
    "df"
   ],
   "metadata": {
    "collapsed": false,
    "ExecuteTime": {
     "end_time": "2023-11-17T06:35:43.669447Z",
     "start_time": "2023-11-17T06:35:43.567039Z"
    }
   },
   "id": "c340f7dfc741219c"
  },
  {
   "cell_type": "code",
   "execution_count": 15,
   "outputs": [],
   "source": [
    "df.to_csv(\"Cleaned_data.csv\")"
   ],
   "metadata": {
    "collapsed": false,
    "ExecuteTime": {
     "end_time": "2023-11-17T06:36:28.895222Z",
     "start_time": "2023-11-17T06:36:28.305814Z"
    }
   },
   "id": "229a87ccbea4dcd1"
  },
  {
   "cell_type": "code",
   "execution_count": 12,
   "outputs": [],
   "source": [
    "import pandas as pd\n",
    "import pymysql as sql"
   ],
   "metadata": {
    "collapsed": false,
    "ExecuteTime": {
     "end_time": "2023-11-17T06:35:43.670149Z",
     "start_time": "2023-11-17T06:35:43.575751Z"
    }
   },
   "id": "dbef40c7d8ade2bb"
  },
  {
   "cell_type": "code",
   "execution_count": 16,
   "outputs": [
    {
     "data": {
      "text/plain": "   Unnamed: 0.1  Unnamed: 0  bookId  \\\n0             1           1       2   \n1             3           3       4   \n2             7           7       8   \n3             8           8       9   \n4             9           9      10   \n\n                                               title  \\\n0          Harry Potter and the Order of the Phoenix   \n1            Harry Potter and the Chamber of Secrets   \n2  Harry Potter Boxed Set, Books 1-5 (Harry Potte...   \n3  Unauthorized Harry Potter Book Seven News: \\\"H...   \n4                            Harry Potter Collection   \n\n                       author  \\\n0  J.K. Rowling,Mary GrandPré   \n1                J.K. Rowling   \n2  J.K. Rowling,Mary GrandPré   \n3      W. Frederick Zimmerman   \n4                J.K. Rowling   \n\n                                              genres       isbn  \\\n0  Art,Biography,Business,Children's,Christian,Cl...  439358078   \n1  Art,Biography,Business,Children's,Christian,Cl...  439554896   \n2  Art,Biography,Business,Children's,Christian,Cl...  439682584   \n3  Art,Biography,Business,Children's,Christian,Cl...  976540606   \n4  Art,Biography,Business,Children's,Christian,Cl...  439827604   \n\n          isbn13  num_pages  num_ratings  num_reviews  avg_rating  rated_1  \\\n0  9780439358071      870.0    2631427.0      44793.0        4.50  16236.0   \n1  9780439554893      352.0    2878196.0      55839.0        4.43  15623.0   \n2  9780439682589     2690.0      58833.0        184.0        4.79    539.0   \n3  9780976540601      152.0         30.0          1.0        3.80      0.0   \n4  9780439827607     3342.0      31200.0        921.0        4.73    282.0   \n\n   rated_2   rated_3   rated_4    rated_5  \n0  41738.0  231438.0  665628.0  1676387.0  \n1  55060.0  315917.0  787181.0  1704415.0  \n2    354.0    1543.0    6204.0    50193.0  \n3      5.0       7.0       7.0       11.0  \n4    231.0    1108.0    4471.0    25108.0  ",
      "text/html": "<div>\n<style scoped>\n    .dataframe tbody tr th:only-of-type {\n        vertical-align: middle;\n    }\n\n    .dataframe tbody tr th {\n        vertical-align: top;\n    }\n\n    .dataframe thead th {\n        text-align: right;\n    }\n</style>\n<table border=\"1\" class=\"dataframe\">\n  <thead>\n    <tr style=\"text-align: right;\">\n      <th></th>\n      <th>Unnamed: 0.1</th>\n      <th>Unnamed: 0</th>\n      <th>bookId</th>\n      <th>title</th>\n      <th>author</th>\n      <th>genres</th>\n      <th>isbn</th>\n      <th>isbn13</th>\n      <th>num_pages</th>\n      <th>num_ratings</th>\n      <th>num_reviews</th>\n      <th>avg_rating</th>\n      <th>rated_1</th>\n      <th>rated_2</th>\n      <th>rated_3</th>\n      <th>rated_4</th>\n      <th>rated_5</th>\n    </tr>\n  </thead>\n  <tbody>\n    <tr>\n      <th>0</th>\n      <td>1</td>\n      <td>1</td>\n      <td>2</td>\n      <td>Harry Potter and the Order of the Phoenix</td>\n      <td>J.K. Rowling,Mary GrandPré</td>\n      <td>Art,Biography,Business,Children's,Christian,Cl...</td>\n      <td>439358078</td>\n      <td>9780439358071</td>\n      <td>870.0</td>\n      <td>2631427.0</td>\n      <td>44793.0</td>\n      <td>4.50</td>\n      <td>16236.0</td>\n      <td>41738.0</td>\n      <td>231438.0</td>\n      <td>665628.0</td>\n      <td>1676387.0</td>\n    </tr>\n    <tr>\n      <th>1</th>\n      <td>3</td>\n      <td>3</td>\n      <td>4</td>\n      <td>Harry Potter and the Chamber of Secrets</td>\n      <td>J.K. Rowling</td>\n      <td>Art,Biography,Business,Children's,Christian,Cl...</td>\n      <td>439554896</td>\n      <td>9780439554893</td>\n      <td>352.0</td>\n      <td>2878196.0</td>\n      <td>55839.0</td>\n      <td>4.43</td>\n      <td>15623.0</td>\n      <td>55060.0</td>\n      <td>315917.0</td>\n      <td>787181.0</td>\n      <td>1704415.0</td>\n    </tr>\n    <tr>\n      <th>2</th>\n      <td>7</td>\n      <td>7</td>\n      <td>8</td>\n      <td>Harry Potter Boxed Set, Books 1-5 (Harry Potte...</td>\n      <td>J.K. Rowling,Mary GrandPré</td>\n      <td>Art,Biography,Business,Children's,Christian,Cl...</td>\n      <td>439682584</td>\n      <td>9780439682589</td>\n      <td>2690.0</td>\n      <td>58833.0</td>\n      <td>184.0</td>\n      <td>4.79</td>\n      <td>539.0</td>\n      <td>354.0</td>\n      <td>1543.0</td>\n      <td>6204.0</td>\n      <td>50193.0</td>\n    </tr>\n    <tr>\n      <th>3</th>\n      <td>8</td>\n      <td>8</td>\n      <td>9</td>\n      <td>Unauthorized Harry Potter Book Seven News: \\\"H...</td>\n      <td>W. Frederick Zimmerman</td>\n      <td>Art,Biography,Business,Children's,Christian,Cl...</td>\n      <td>976540606</td>\n      <td>9780976540601</td>\n      <td>152.0</td>\n      <td>30.0</td>\n      <td>1.0</td>\n      <td>3.80</td>\n      <td>0.0</td>\n      <td>5.0</td>\n      <td>7.0</td>\n      <td>7.0</td>\n      <td>11.0</td>\n    </tr>\n    <tr>\n      <th>4</th>\n      <td>9</td>\n      <td>9</td>\n      <td>10</td>\n      <td>Harry Potter Collection</td>\n      <td>J.K. Rowling</td>\n      <td>Art,Biography,Business,Children's,Christian,Cl...</td>\n      <td>439827604</td>\n      <td>9780439827607</td>\n      <td>3342.0</td>\n      <td>31200.0</td>\n      <td>921.0</td>\n      <td>4.73</td>\n      <td>282.0</td>\n      <td>231.0</td>\n      <td>1108.0</td>\n      <td>4471.0</td>\n      <td>25108.0</td>\n    </tr>\n  </tbody>\n</table>\n</div>"
     },
     "execution_count": 16,
     "metadata": {},
     "output_type": "execute_result"
    }
   ],
   "source": [
    "df = pd.read_csv(\"Cleaned_data.csv\")\n",
    "df.head()"
   ],
   "metadata": {
    "collapsed": false,
    "ExecuteTime": {
     "end_time": "2023-11-17T06:36:47.247353Z",
     "start_time": "2023-11-17T06:36:47.065124Z"
    }
   },
   "id": "a95cdfe090891cfb"
  },
  {
   "cell_type": "code",
   "execution_count": 17,
   "outputs": [],
   "source": [
    "df.drop(['Unnamed: 0','Unnamed: 0.1'],axis=1,inplace=True)"
   ],
   "metadata": {
    "collapsed": false,
    "ExecuteTime": {
     "end_time": "2023-11-17T06:36:59.527645Z",
     "start_time": "2023-11-17T06:36:59.520645Z"
    }
   },
   "id": "477bb22a59fde8bc"
  },
  {
   "cell_type": "code",
   "execution_count": 19,
   "outputs": [
    {
     "data": {
      "text/plain": "          isbn13                                              title  \\\n0  9780439358071          Harry Potter and the Order of the Phoenix   \n1  9780439554893            Harry Potter and the Chamber of Secrets   \n2  9780439682589  Harry Potter Boxed Set, Books 1-5 (Harry Potte...   \n3  9780976540601  Unauthorized Harry Potter Book Seven News: \\\"H...   \n4  9780439827607                            Harry Potter Collection   \n\n                       author  \\\n0  J.K. Rowling,Mary GrandPré   \n1                J.K. Rowling   \n2  J.K. Rowling,Mary GrandPré   \n3      W. Frederick Zimmerman   \n4                J.K. Rowling   \n\n                                              genres  \n0  Art,Biography,Business,Children's,Christian,Cl...  \n1  Art,Biography,Business,Children's,Christian,Cl...  \n2  Art,Biography,Business,Children's,Christian,Cl...  \n3  Art,Biography,Business,Children's,Christian,Cl...  \n4  Art,Biography,Business,Children's,Christian,Cl...  ",
      "text/html": "<div>\n<style scoped>\n    .dataframe tbody tr th:only-of-type {\n        vertical-align: middle;\n    }\n\n    .dataframe tbody tr th {\n        vertical-align: top;\n    }\n\n    .dataframe thead th {\n        text-align: right;\n    }\n</style>\n<table border=\"1\" class=\"dataframe\">\n  <thead>\n    <tr style=\"text-align: right;\">\n      <th></th>\n      <th>isbn13</th>\n      <th>title</th>\n      <th>author</th>\n      <th>genres</th>\n    </tr>\n  </thead>\n  <tbody>\n    <tr>\n      <th>0</th>\n      <td>9780439358071</td>\n      <td>Harry Potter and the Order of the Phoenix</td>\n      <td>J.K. Rowling,Mary GrandPré</td>\n      <td>Art,Biography,Business,Children's,Christian,Cl...</td>\n    </tr>\n    <tr>\n      <th>1</th>\n      <td>9780439554893</td>\n      <td>Harry Potter and the Chamber of Secrets</td>\n      <td>J.K. Rowling</td>\n      <td>Art,Biography,Business,Children's,Christian,Cl...</td>\n    </tr>\n    <tr>\n      <th>2</th>\n      <td>9780439682589</td>\n      <td>Harry Potter Boxed Set, Books 1-5 (Harry Potte...</td>\n      <td>J.K. Rowling,Mary GrandPré</td>\n      <td>Art,Biography,Business,Children's,Christian,Cl...</td>\n    </tr>\n    <tr>\n      <th>3</th>\n      <td>9780976540601</td>\n      <td>Unauthorized Harry Potter Book Seven News: \\\"H...</td>\n      <td>W. Frederick Zimmerman</td>\n      <td>Art,Biography,Business,Children's,Christian,Cl...</td>\n    </tr>\n    <tr>\n      <th>4</th>\n      <td>9780439827607</td>\n      <td>Harry Potter Collection</td>\n      <td>J.K. Rowling</td>\n      <td>Art,Biography,Business,Children's,Christian,Cl...</td>\n    </tr>\n  </tbody>\n</table>\n</div>"
     },
     "execution_count": 19,
     "metadata": {},
     "output_type": "execute_result"
    }
   ],
   "source": [
    "df = df[['isbn13','title','author','genres']]\n",
    "df.head()"
   ],
   "metadata": {
    "collapsed": false,
    "ExecuteTime": {
     "end_time": "2023-11-17T06:37:58.888120Z",
     "start_time": "2023-11-17T06:37:58.882499Z"
    }
   },
   "id": "45768f3138003e2b"
  },
  {
   "cell_type": "code",
   "execution_count": null,
   "outputs": [],
   "source": [
    "cursor = connection.cursor()"
   ],
   "metadata": {
    "collapsed": false,
    "ExecuteTime": {
     "start_time": "2023-11-17T06:35:43.989851Z"
    }
   },
   "id": "a4b43f6fd2dc5c5f"
  },
  {
   "cell_type": "code",
   "execution_count": 25,
   "outputs": [
    {
     "name": "stdout",
     "output_type": "stream",
     "text": [
      "[9780439554893 'Harry Potter and the Chamber of Secrets' 'J.K. Rowling'\n",
      " \"Art,Biography,Business,Children's,Christian,Classics,Comics,Cookbooks,Ebooks,Fantasy,Fiction,Graphic Novels,Historical Fiction,History,Horror,Memoir,Music,Mystery,Nonfiction,Poetry,Psychology,Romance,Science,Science Fiction,Self Help,Sports,Thriller,Travel,Young Adult,Art,Biography,Business,Children's,Christian,Classics,Comics,Cookbooks,Ebooks,Fantasy,Fiction,Graphic Novels,Historical Fiction,History,Horror,Memoir,Music,Mystery,Nonfiction,Poetry,Psychology,Romance,Science,Science Fiction,Self Help,Sports,Thriller,Travel,Young Adult,Fantasy,Young Adult,Fiction,Fantasy,Magic,Childrens,Childrens,Middle Grade,Adventure,Audiobook,Classics,Science Fiction Fantasy\"]\n"
     ]
    }
   ],
   "source": [
    "# Let's select the rows and store them in a tuple\n",
    "# data = df[['isbn13','title','author','genres']].values\n",
    "print(data[1])"
   ],
   "metadata": {
    "collapsed": false,
    "ExecuteTime": {
     "end_time": "2023-11-17T06:39:18.805211Z",
     "start_time": "2023-11-17T06:39:18.796241Z"
    }
   },
   "id": "10fb1f4f8d0bd0c3"
  },
  {
   "cell_type": "code",
   "execution_count": 20,
   "outputs": [
    {
     "data": {
      "text/plain": "0        9780439358071\n1        9780439554893\n2        9780439682589\n3        9780976540601\n4        9780439827607\n             ...      \n14135    9780573625831\n14136    9780689505195\n14137    9781885865243\n14138    9780452272262\n14139    9783453188211\nName: isbn13, Length: 14140, dtype: int64"
     },
     "execution_count": 20,
     "metadata": {},
     "output_type": "execute_result"
    }
   ],
   "source": [
    "df['isbn13'].astype('int')"
   ],
   "metadata": {
    "collapsed": false,
    "ExecuteTime": {
     "end_time": "2023-11-17T06:38:30.740142Z",
     "start_time": "2023-11-17T06:38:30.733892Z"
    }
   },
   "id": "b2a6be12d819e604"
  },
  {
   "cell_type": "code",
   "execution_count": 30,
   "outputs": [
    {
     "ename": "TypeError",
     "evalue": "%d format: a real number is required, not str",
     "output_type": "error",
     "traceback": [
      "\u001B[0;31m---------------------------------------------------------------------------\u001B[0m",
      "\u001B[0;31mTypeError\u001B[0m                                 Traceback (most recent call last)",
      "Cell \u001B[0;32mIn[30], line 13\u001B[0m\n\u001B[1;32m     11\u001B[0m     cursor \u001B[38;5;241m=\u001B[39m connection\u001B[38;5;241m.\u001B[39mcursor()\n\u001B[1;32m     12\u001B[0m     vals \u001B[38;5;241m=\u001B[39m (\u001B[38;5;28mint\u001B[39m(i[\u001B[38;5;241m0\u001B[39m]),i[\u001B[38;5;241m1\u001B[39m],i[\u001B[38;5;241m2\u001B[39m],i[\u001B[38;5;241m3\u001B[39m])\n\u001B[0;32m---> 13\u001B[0m     \u001B[43mcursor\u001B[49m\u001B[38;5;241;43m.\u001B[39;49m\u001B[43mexecute\u001B[49m\u001B[43m(\u001B[49m\u001B[43mquery\u001B[49m\u001B[43m,\u001B[49m\u001B[43mi\u001B[49m\u001B[43m)\u001B[49m\n\u001B[1;32m     14\u001B[0m \u001B[38;5;28;01mfinally\u001B[39;00m:\n\u001B[1;32m     15\u001B[0m     connection\u001B[38;5;241m.\u001B[39mcommit()\n",
      "File \u001B[0;32m/usr/local/lib/python3.11/site-packages/pymysql/cursors.py:151\u001B[0m, in \u001B[0;36mCursor.execute\u001B[0;34m(self, query, args)\u001B[0m\n\u001B[1;32m    148\u001B[0m \u001B[38;5;28;01mwhile\u001B[39;00m \u001B[38;5;28mself\u001B[39m\u001B[38;5;241m.\u001B[39mnextset():\n\u001B[1;32m    149\u001B[0m     \u001B[38;5;28;01mpass\u001B[39;00m\n\u001B[0;32m--> 151\u001B[0m query \u001B[38;5;241m=\u001B[39m \u001B[38;5;28;43mself\u001B[39;49m\u001B[38;5;241;43m.\u001B[39;49m\u001B[43mmogrify\u001B[49m\u001B[43m(\u001B[49m\u001B[43mquery\u001B[49m\u001B[43m,\u001B[49m\u001B[43m \u001B[49m\u001B[43margs\u001B[49m\u001B[43m)\u001B[49m\n\u001B[1;32m    153\u001B[0m result \u001B[38;5;241m=\u001B[39m \u001B[38;5;28mself\u001B[39m\u001B[38;5;241m.\u001B[39m_query(query)\n\u001B[1;32m    154\u001B[0m \u001B[38;5;28mself\u001B[39m\u001B[38;5;241m.\u001B[39m_executed \u001B[38;5;241m=\u001B[39m query\n",
      "File \u001B[0;32m/usr/local/lib/python3.11/site-packages/pymysql/cursors.py:129\u001B[0m, in \u001B[0;36mCursor.mogrify\u001B[0;34m(self, query, args)\u001B[0m\n\u001B[1;32m    126\u001B[0m conn \u001B[38;5;241m=\u001B[39m \u001B[38;5;28mself\u001B[39m\u001B[38;5;241m.\u001B[39m_get_db()\n\u001B[1;32m    128\u001B[0m \u001B[38;5;28;01mif\u001B[39;00m args \u001B[38;5;129;01mis\u001B[39;00m \u001B[38;5;129;01mnot\u001B[39;00m \u001B[38;5;28;01mNone\u001B[39;00m:\n\u001B[0;32m--> 129\u001B[0m     query \u001B[38;5;241m=\u001B[39m \u001B[43mquery\u001B[49m\u001B[43m \u001B[49m\u001B[38;5;241;43m%\u001B[39;49m\u001B[43m \u001B[49m\u001B[38;5;28;43mself\u001B[39;49m\u001B[38;5;241;43m.\u001B[39;49m\u001B[43m_escape_args\u001B[49m\u001B[43m(\u001B[49m\u001B[43margs\u001B[49m\u001B[43m,\u001B[49m\u001B[43m \u001B[49m\u001B[43mconn\u001B[49m\u001B[43m)\u001B[49m\n\u001B[1;32m    131\u001B[0m \u001B[38;5;28;01mreturn\u001B[39;00m query\n",
      "\u001B[0;31mTypeError\u001B[0m: %d format: a real number is required, not str"
     ]
    }
   ],
   "source": [
    "query = \"INSERT INTO books(id, bname, author, genre)  VALUES(%d, %s, %s, %s)\"\n",
    "for i in data:\n",
    "    i[0] = int(i[0])\n",
    "    try:\n",
    "        connection = sql.connect(\n",
    "        host='localhost',\n",
    "        user='root',\n",
    "        password='Kausik@2204',\n",
    "        db='library'\n",
    "        )\n",
    "        cursor = connection.cursor()\n",
    "        vals = (int(i[0]),i[1],i[2],i[3])\n",
    "        cursor.execute(query,i)\n",
    "    finally:\n",
    "        connection.commit()"
   ],
   "metadata": {
    "collapsed": false,
    "ExecuteTime": {
     "end_time": "2023-11-17T06:42:36.842007Z",
     "start_time": "2023-11-17T06:42:36.798226Z"
    }
   },
   "id": "e0793df8a6457dc6"
  },
  {
   "cell_type": "code",
   "execution_count": 31,
   "outputs": [
    {
     "ename": "TypeError",
     "evalue": "%d format: a real number is required, not str",
     "output_type": "error",
     "traceback": [
      "\u001B[0;31m---------------------------------------------------------------------------\u001B[0m",
      "\u001B[0;31mTypeError\u001B[0m                                 Traceback (most recent call last)",
      "Cell \u001B[0;32mIn[31], line 12\u001B[0m\n\u001B[1;32m     10\u001B[0m     cursor \u001B[38;5;241m=\u001B[39m connection\u001B[38;5;241m.\u001B[39mcursor()\n\u001B[1;32m     11\u001B[0m     vals \u001B[38;5;241m=\u001B[39m (\u001B[38;5;28mint\u001B[39m(i[\u001B[38;5;241m0\u001B[39m]), i[\u001B[38;5;241m1\u001B[39m], i[\u001B[38;5;241m2\u001B[39m], i[\u001B[38;5;241m3\u001B[39m])\n\u001B[0;32m---> 12\u001B[0m     \u001B[43mcursor\u001B[49m\u001B[38;5;241;43m.\u001B[39;49m\u001B[43mexecute\u001B[49m\u001B[43m(\u001B[49m\u001B[43mquery\u001B[49m\u001B[43m,\u001B[49m\u001B[43m \u001B[49m\u001B[43mvals\u001B[49m\u001B[43m)\u001B[49m  \u001B[38;5;66;03m# Pass vals as a tuple\u001B[39;00m\n\u001B[1;32m     13\u001B[0m \u001B[38;5;28;01mfinally\u001B[39;00m:\n\u001B[1;32m     14\u001B[0m     connection\u001B[38;5;241m.\u001B[39mcommit()\n",
      "File \u001B[0;32m/usr/local/lib/python3.11/site-packages/pymysql/cursors.py:151\u001B[0m, in \u001B[0;36mCursor.execute\u001B[0;34m(self, query, args)\u001B[0m\n\u001B[1;32m    148\u001B[0m \u001B[38;5;28;01mwhile\u001B[39;00m \u001B[38;5;28mself\u001B[39m\u001B[38;5;241m.\u001B[39mnextset():\n\u001B[1;32m    149\u001B[0m     \u001B[38;5;28;01mpass\u001B[39;00m\n\u001B[0;32m--> 151\u001B[0m query \u001B[38;5;241m=\u001B[39m \u001B[38;5;28;43mself\u001B[39;49m\u001B[38;5;241;43m.\u001B[39;49m\u001B[43mmogrify\u001B[49m\u001B[43m(\u001B[49m\u001B[43mquery\u001B[49m\u001B[43m,\u001B[49m\u001B[43m \u001B[49m\u001B[43margs\u001B[49m\u001B[43m)\u001B[49m\n\u001B[1;32m    153\u001B[0m result \u001B[38;5;241m=\u001B[39m \u001B[38;5;28mself\u001B[39m\u001B[38;5;241m.\u001B[39m_query(query)\n\u001B[1;32m    154\u001B[0m \u001B[38;5;28mself\u001B[39m\u001B[38;5;241m.\u001B[39m_executed \u001B[38;5;241m=\u001B[39m query\n",
      "File \u001B[0;32m/usr/local/lib/python3.11/site-packages/pymysql/cursors.py:129\u001B[0m, in \u001B[0;36mCursor.mogrify\u001B[0;34m(self, query, args)\u001B[0m\n\u001B[1;32m    126\u001B[0m conn \u001B[38;5;241m=\u001B[39m \u001B[38;5;28mself\u001B[39m\u001B[38;5;241m.\u001B[39m_get_db()\n\u001B[1;32m    128\u001B[0m \u001B[38;5;28;01mif\u001B[39;00m args \u001B[38;5;129;01mis\u001B[39;00m \u001B[38;5;129;01mnot\u001B[39;00m \u001B[38;5;28;01mNone\u001B[39;00m:\n\u001B[0;32m--> 129\u001B[0m     query \u001B[38;5;241m=\u001B[39m \u001B[43mquery\u001B[49m\u001B[43m \u001B[49m\u001B[38;5;241;43m%\u001B[39;49m\u001B[43m \u001B[49m\u001B[38;5;28;43mself\u001B[39;49m\u001B[38;5;241;43m.\u001B[39;49m\u001B[43m_escape_args\u001B[49m\u001B[43m(\u001B[49m\u001B[43margs\u001B[49m\u001B[43m,\u001B[49m\u001B[43m \u001B[49m\u001B[43mconn\u001B[49m\u001B[43m)\u001B[49m\n\u001B[1;32m    131\u001B[0m \u001B[38;5;28;01mreturn\u001B[39;00m query\n",
      "\u001B[0;31mTypeError\u001B[0m: %d format: a real number is required, not str"
     ]
    }
   ],
   "source": [
    "for i in data:\n",
    "    i[0] = int(i[0])\n",
    "    try:\n",
    "        connection = sql.connect(\n",
    "            host='localhost',\n",
    "            user='root',\n",
    "            password='Kausik@2204',\n",
    "            db='library'\n",
    "        )\n",
    "        cursor = connection.cursor()\n",
    "        vals = (int(i[0]), i[1], i[2], i[3])\n",
    "        cursor.execute(query, vals)  # Pass vals as a tuple\n",
    "    finally:\n",
    "        connection.commit()\n"
   ],
   "metadata": {
    "collapsed": false,
    "ExecuteTime": {
     "end_time": "2023-11-17T06:44:44.546231Z",
     "start_time": "2023-11-17T06:44:44.502802Z"
    }
   },
   "id": "9479890744781d1a"
  }
 ],
 "metadata": {
  "kernelspec": {
   "display_name": "Python 3",
   "language": "python",
   "name": "python3"
  },
  "language_info": {
   "codemirror_mode": {
    "name": "ipython",
    "version": 2
   },
   "file_extension": ".py",
   "mimetype": "text/x-python",
   "name": "python",
   "nbconvert_exporter": "python",
   "pygments_lexer": "ipython2",
   "version": "2.7.6"
  }
 },
 "nbformat": 4,
 "nbformat_minor": 5
}
