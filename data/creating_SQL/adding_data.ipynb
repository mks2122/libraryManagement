{
 "cells": [
  {
   "cell_type": "code",
   "execution_count": 1,
   "id": "initial_id",
   "metadata": {
    "collapsed": true,
    "ExecuteTime": {
     "end_time": "2023-11-09T10:38:35.987328400Z",
     "start_time": "2023-11-09T10:38:35.521571800Z"
    }
   },
   "outputs": [],
   "source": [
    "import pymysql as sql\n",
    "import pandas as pd"
   ]
  },
  {
   "cell_type": "code",
   "execution_count": 10,
   "outputs": [
    {
     "data": {
      "text/plain": "    Regn Num                           Name Branch                 Venue  \\\n#                                                                          \n1    22AD107          AADHITHYA KHANNA V S      AI  Technology IT LAB -1   \n2    22AD159               AADITYA RAAJA R      AI  Technology IT LAB -1   \n3    22AD264               AASHIQ AHAMED N      AI  Technology IT LAB -1   \n4    22AD276                  ABHINAYA V J      AI  Technology IT LAB -1   \n5    22AD128                     ABHISHEK P     AI  Technology IT LAB -1   \n..       ...                            ...    ...                   ...   \n813  22IT208  VICKINESHWARAN VICKINESHWARAN     IT  Technology IT LAB -1   \n814  22IT272                     VIGNESH S      IT  Technology IT LAB -1   \n815  22IT181          VIJAY S (04-03-2005)      IT  Technology IT LAB -1   \n816  22IT115          VINAY S (08-11-2004)      IT  Technology IT LAB -1   \n817  22IT138                      VISHAL R      IT  Technology IT LAB -1   \n\n       Batch          Time  \n#                           \n1    Batch-1   8.15-8.45am  \n2    Batch-1   8.15-8.45am  \n3    Batch-1   8.15-8.45am  \n4    Batch-1   8.15-8.45am  \n5    Batch-1   8.15-8.45am  \n..       ...           ...  \n813  Batch-2  9.00-9.30 am  \n814  Batch-2  9.00-9.30 am  \n815  Batch-2  9.00-9.30 am  \n816  Batch-2  9.00-9.30 am  \n817  Batch-2  9.00-9.30 am  \n\n[452 rows x 6 columns]",
      "text/html": "<div>\n<style scoped>\n    .dataframe tbody tr th:only-of-type {\n        vertical-align: middle;\n    }\n\n    .dataframe tbody tr th {\n        vertical-align: top;\n    }\n\n    .dataframe thead th {\n        text-align: right;\n    }\n</style>\n<table border=\"1\" class=\"dataframe\">\n  <thead>\n    <tr style=\"text-align: right;\">\n      <th></th>\n      <th>Regn Num</th>\n      <th>Name</th>\n      <th>Branch</th>\n      <th>Venue</th>\n      <th>Batch</th>\n      <th>Time</th>\n    </tr>\n    <tr>\n      <th>#</th>\n      <th></th>\n      <th></th>\n      <th></th>\n      <th></th>\n      <th></th>\n      <th></th>\n    </tr>\n  </thead>\n  <tbody>\n    <tr>\n      <th>1</th>\n      <td>22AD107</td>\n      <td>AADHITHYA KHANNA V S</td>\n      <td>AI</td>\n      <td>Technology IT LAB -1</td>\n      <td>Batch-1</td>\n      <td>8.15-8.45am</td>\n    </tr>\n    <tr>\n      <th>2</th>\n      <td>22AD159</td>\n      <td>AADITYA RAAJA R</td>\n      <td>AI</td>\n      <td>Technology IT LAB -1</td>\n      <td>Batch-1</td>\n      <td>8.15-8.45am</td>\n    </tr>\n    <tr>\n      <th>3</th>\n      <td>22AD264</td>\n      <td>AASHIQ AHAMED N</td>\n      <td>AI</td>\n      <td>Technology IT LAB -1</td>\n      <td>Batch-1</td>\n      <td>8.15-8.45am</td>\n    </tr>\n    <tr>\n      <th>4</th>\n      <td>22AD276</td>\n      <td>ABHINAYA V J</td>\n      <td>AI</td>\n      <td>Technology IT LAB -1</td>\n      <td>Batch-1</td>\n      <td>8.15-8.45am</td>\n    </tr>\n    <tr>\n      <th>5</th>\n      <td>22AD128</td>\n      <td>ABHISHEK P</td>\n      <td>AI</td>\n      <td>Technology IT LAB -1</td>\n      <td>Batch-1</td>\n      <td>8.15-8.45am</td>\n    </tr>\n    <tr>\n      <th>...</th>\n      <td>...</td>\n      <td>...</td>\n      <td>...</td>\n      <td>...</td>\n      <td>...</td>\n      <td>...</td>\n    </tr>\n    <tr>\n      <th>813</th>\n      <td>22IT208</td>\n      <td>VICKINESHWARAN VICKINESHWARAN</td>\n      <td>IT</td>\n      <td>Technology IT LAB -1</td>\n      <td>Batch-2</td>\n      <td>9.00-9.30 am</td>\n    </tr>\n    <tr>\n      <th>814</th>\n      <td>22IT272</td>\n      <td>VIGNESH S</td>\n      <td>IT</td>\n      <td>Technology IT LAB -1</td>\n      <td>Batch-2</td>\n      <td>9.00-9.30 am</td>\n    </tr>\n    <tr>\n      <th>815</th>\n      <td>22IT181</td>\n      <td>VIJAY S (04-03-2005)</td>\n      <td>IT</td>\n      <td>Technology IT LAB -1</td>\n      <td>Batch-2</td>\n      <td>9.00-9.30 am</td>\n    </tr>\n    <tr>\n      <th>816</th>\n      <td>22IT115</td>\n      <td>VINAY S (08-11-2004)</td>\n      <td>IT</td>\n      <td>Technology IT LAB -1</td>\n      <td>Batch-2</td>\n      <td>9.00-9.30 am</td>\n    </tr>\n    <tr>\n      <th>817</th>\n      <td>22IT138</td>\n      <td>VISHAL R</td>\n      <td>IT</td>\n      <td>Technology IT LAB -1</td>\n      <td>Batch-2</td>\n      <td>9.00-9.30 am</td>\n    </tr>\n  </tbody>\n</table>\n<p>452 rows × 6 columns</p>\n</div>"
     },
     "execution_count": 10,
     "metadata": {},
     "output_type": "execute_result"
    }
   ],
   "source": [
    "df = pd.read_excel(\"HOPE.xlsx\", sheet_name=\"resulttbl1\",index_col=\"#\")\n",
    "df"
   ],
   "metadata": {
    "collapsed": false,
    "ExecuteTime": {
     "end_time": "2023-11-09T10:46:12.937792900Z",
     "start_time": "2023-11-09T10:46:12.814441Z"
    }
   },
   "id": "ac4ba97e0fc711ca"
  },
  {
   "cell_type": "code",
   "execution_count": 18,
   "outputs": [
    {
     "name": "stdout",
     "output_type": "stream",
     "text": [
      "['22AD107' 'AADHITHYA KHANNA V S ']\n",
      "['22AD159' 'AADITYA RAAJA R ']\n",
      "['22AD264' 'AASHIQ AHAMED N ']\n",
      "['22AD276' 'ABHINAYA V J ']\n",
      "['22AD128' 'ABHISHEK P']\n",
      "['22AD146' 'ABIJITH T ']\n",
      "['22AD269' 'ABINAYA K M ']\n",
      "['22AD115' 'ABISHEAK K ']\n",
      "['22AD143' 'ADHITYA S ']\n",
      "['22AD136' 'AJAY G ']\n",
      "['22AD170' 'AJAY J ']\n",
      "['22AD280' 'AKASH S ']\n",
      "['22AD193' 'AKSHAYA SHREE J V ']\n",
      "['22AD301' 'ALEEMULLAH HUSSAIN H HUSSAIN ']\n",
      "['22AD201' 'AMITESH M ']\n",
      "['22AD356' 'AMUDHAN P ']\n",
      "['22AD358' 'ANGEL CATHERINE M ']\n",
      "['22AD109' 'ANSEL BERDINANT B ']\n",
      "['22AD157' 'ARJUN ADHITHYA R R ']\n",
      "['22AD195' 'ARON ABRAHAM LINCOLN P ']\n",
      "['22AD278' 'ARULPRASANTH S ']\n",
      "['22AD156' 'ASIF K A ']\n",
      "['22AD185' 'AVINASH N ']\n",
      "['22AD155' 'BENITA S ']\n",
      "['22AD211' 'BHARATH R ']\n",
      "['22AD259' 'BHAVANA S ']\n",
      "['22AD119' 'CLARIA PERSY P ']\n",
      "['22AD284' 'CLARIS TASHA J X ']\n",
      "['22AD230' 'DEBORAH ROOPAVATHI S ']\n",
      "['22AD216' 'DEEPIKA M ']\n",
      "['22AD260' 'DEERENDRAN R ']\n",
      "['22AD212' 'DEVAPRIYA R R ']\n",
      "['22AD160' 'DHAKSHANA MANISH G ']\n",
      "['22AD252' 'DHAKSIN S ']\n",
      "['22AD199' 'DHARSHAN H ']\n",
      "['22AD237' 'DHARUNIKA B ']\n",
      "['22AD217' 'DHIVYA SHREE L ']\n",
      "['22AD248' 'DIVILIN SWEETY D S ']\n",
      "['22AD235' 'DIVIT P ']\n",
      "['22AD207' 'ELAKKIYA B ']\n",
      "['22AD353' 'ELAMMURUGAN T ']\n",
      "['22AD197' 'FILBERT SHAWN P ']\n",
      "['22AD106' 'GIFTLIN C ']\n",
      "['22AD251' 'GINO PRASATH J ']\n",
      "['22AD182' 'GOMATTHI D ']\n",
      "['22AD279' 'GOWSILAN B ']\n",
      "['22AD198' 'GUNANITHI E ']\n",
      "['22AD181' 'GURUGUHAN M B ']\n",
      "['22AD190' 'HAJESH S P ']\n",
      "['22AD202' 'HAMSA VARDHINI M ']\n",
      "['22AD139' 'HARI K ']\n",
      "['22AD167' 'HARISH KUMAR S ']\n",
      "['22AD101' 'HARSHINI B ']\n",
      "['22AD352' 'HARSHINI M']\n",
      "['22AD102' 'HARSHITHA M ']\n",
      "['22AD113' 'HEMESH K ']\n",
      "['22AD261' 'HIMASRI S ']\n",
      "['22AD275' 'INDHUJA A ']\n",
      "['22AD267' 'JACOB GUNASEELAN J ']\n",
      "['22AD112' 'JAIVIGNESH P V ']\n",
      "['22AD173' 'JANANI M ']\n",
      "['22AD277' 'JANANI R ']\n",
      "['22AD233' 'JEEVA BHARATHY S ']\n",
      "['22AD215' 'JELIZ FEEBA D ']\n",
      "['22AD256' 'KAMALI M ']\n",
      "['22AD244' 'KANIGA M ']\n",
      "['22AD271' 'KARUNYAN V T ']\n",
      "['22AD210' 'KAVIARASI K ']\n",
      "['22AD151' 'KAVIN S ']\n",
      "['22AD245' 'KAVIYA V ']\n",
      "['22AD123' 'KEERTHI SELVAN M ']\n",
      "['22AD110' 'KEVIN J C ']\n",
      "['22AD125' 'KIRUTHIK KUMAR J ']\n",
      "['22AD163' 'KISHORE M ']\n",
      "['22AD255' 'KRIPAASREE S ']\n",
      "['22AD246' 'LATCHIYA R ']\n",
      "['22AD135' 'LATHIKA V ']\n",
      "['22AD169' 'LEKHA P ']\n",
      "['22AD180' 'MAHESH KUMAR P ']\n",
      "['22AD234' 'MALAVIKA S P ']\n",
      "['22AD117' 'MARIA LIJOEVIN J ']\n",
      "['22AD138' 'MELCHIZEDEK I ']\n",
      "['22AD214' 'MOHAMMAD P ']\n",
      "['22AD285' 'MOHAMMED NAAZIL A A ']\n",
      "['22AD232' 'MONICA T ']\n",
      "['22AD224' 'MONIGA S ']\n",
      "['22AD194' 'MONISHA R ']\n",
      "['22AD249' 'NANDHINI D ']\n",
      "['22AD227' 'NARENDRAN C M ']\n",
      "['22AD240' 'NAVEEN G G ']\n",
      "['22AD272' 'NITHISH A ']\n",
      "['22AD208' 'NITHYASRI S K ']\n",
      "['22AD164' 'OM PRASATH S ']\n",
      "['22AD359' 'P SUJAN ']\n",
      "['22AD270' 'PARSHEELA N G ']\n",
      "['22AD265' 'PRANAVI J ']\n",
      "['22AD120' 'PRAVEENRAJ D ']\n",
      "['22AD166' 'PRITHVI A L ']\n",
      "['22AD204' 'PRIYADHARSHAN B ']\n",
      "['22AD209' 'PUGAZHENDHI S ']\n"
     ]
    }
   ],
   "source": [
    "# Finding the top 10 rows\n",
    "data = df[[\"Regn Num\",\"Name\"]].values\n",
    "for i in range(100):\n",
    "    print(data[i])"
   ],
   "metadata": {
    "collapsed": false,
    "ExecuteTime": {
     "end_time": "2023-11-09T10:48:37.932227400Z",
     "start_time": "2023-11-09T10:48:37.902161900Z"
    }
   },
   "id": "5fbb7b112cfb7d44"
  },
  {
   "cell_type": "code",
   "execution_count": 19,
   "outputs": [],
   "source": [
    "connection = sql.connect(\n",
    "    host=\"localhost\",\n",
    "    user=\"root\",\n",
    "    password=\"Govind@1950\",\n",
    "    db='library'\n",
    ")\n",
    "cursor = connection.cursor()\n",
    "for i in data:\n",
    "    cursor.execute(\"INSERT INTO student(ROLL, NAME) VALUES(%s, %s)\",(i[0],i[1]))\n",
    "    connection.commit()"
   ],
   "metadata": {
    "collapsed": false,
    "ExecuteTime": {
     "end_time": "2023-11-09T10:50:26.275864300Z",
     "start_time": "2023-11-09T10:49:57.515883400Z"
    }
   },
   "id": "4e1d776dc77ee52f"
  },
  {
   "cell_type": "code",
   "execution_count": null,
   "outputs": [],
   "source": [],
   "metadata": {
    "collapsed": false
   },
   "id": "51083090fab997c9"
  }
 ],
 "metadata": {
  "kernelspec": {
   "display_name": "Python 3",
   "language": "python",
   "name": "python3"
  },
  "language_info": {
   "codemirror_mode": {
    "name": "ipython",
    "version": 2
   },
   "file_extension": ".py",
   "mimetype": "text/x-python",
   "name": "python",
   "nbconvert_exporter": "python",
   "pygments_lexer": "ipython2",
   "version": "2.7.6"
  }
 },
 "nbformat": 4,
 "nbformat_minor": 5
}
